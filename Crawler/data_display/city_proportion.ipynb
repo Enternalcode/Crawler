{
 "cells": [
  {
   "cell_type": "code",
   "execution_count": 91,
   "metadata": {},
   "outputs": [],
   "source": [
    "import pandas as pd\n",
    "from pyecharts import Pie\n",
    "\n",
    "# 读取csv格式源文件（源数据条数：32699）\n",
    "File_path = '/home/ls/tmp/mongodbdump/data/qcwy.csv'\n",
    "df = pd.read_csv(File_path, delimiter=\",\", encoding=\"utf-8\")\n",
    "df = df.drop_duplicates()    # 去重（剩余：30968）\n",
    "city_select = pd.DataFrame(df.city.value_counts())    # 以城市为索引统计元素，后实例化成DataFrame对象\n",
    "city_select = city_select[0:20].reset_index()    # 截取前20个城市后重置索引\n",
    "city_select.columns=['city', 'num']    # 更改列名\n",
    "\n",
    "# 实例化圆环图\n",
    "pie = Pie(\"各城市招聘占比\", title_pos=\"center\", width=900)\n",
    "# 配置圆环图\n",
    "pie.add(\n",
    "    \"招聘占比: \",\n",
    "    # 类型：pandas.core.series.Series，Pyecharts官方文档要求是传入list\n",
    "    # 但是这里传入Series也可以；Series是一个定长的，有序的字典，因为它把索引和值映射起来\n",
    "    city_select.city,    \n",
    "    city_select.num,\n",
    "    center = [25,50],\n",
    "    radius = [30,65],\n",
    "    is_label_show = True,\n",
    ")\n",
    "\n",
    "# 此处会覆写以上legend设置，故将legend设置写到下面的add()函数中\n",
    "pie.add(\n",
    "    \"招聘占比: \",\n",
    "    # 类型：pandas.core.series.Series，Pyecharts官方文档要求是传入list\n",
    "    # 但是这里传入Series也可以；Series是一个定长的，有序的字典，因为它把索引和值映射起来\n",
    "    city_select.city,    \n",
    "    city_select.num,\n",
    "    center = [75,50],\n",
    "    radius = [30,65],\n",
    "    is_label_show = True,\n",
    "    # is_legend_show = False, \n",
    "    legend_orient = \"horizontal\",    # 横向展示图例\n",
    "    legend_pos = \"center\",    #　距离容器左侧距离：居中\n",
    "    legend_top = \"bottom\",    # 距离容器上侧距离：置底\n",
    "    # 南丁尔格图\n",
    "    rosetype = \"area\",\n",
    ")\n",
    "pie.render(\"各城市招聘占比 饼状图.html\")"
   ]
  }
 ],
 "metadata": {
  "kernelspec": {
   "display_name": "Python 3",
   "language": "python",
   "name": "python3"
  },
  "language_info": {
   "codemirror_mode": {
    "name": "ipython",
    "version": 3
   },
   "file_extension": ".py",
   "mimetype": "text/x-python",
   "name": "python",
   "nbconvert_exporter": "python",
   "pygments_lexer": "ipython3",
   "version": "3.6.6"
  }
 },
 "nbformat": 4,
 "nbformat_minor": 2
}
