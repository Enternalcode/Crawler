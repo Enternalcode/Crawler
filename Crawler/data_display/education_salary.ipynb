{
 "cells": [
  {
   "cell_type": "code",
   "execution_count": 27,
   "metadata": {},
   "outputs": [],
   "source": [
    "import pandas as pd\n",
    "from pyecharts import Bar\n",
    "\n",
    "# 读取csv数据源文件（源数据条数：32699）\n",
    "File_path = '/home/ls/tmp/mongodbdump/data/qcwy.csv'\n",
    "df = pd.read_csv(File_path, delimiter=\",\", encoding=\"utf-8\")\n",
    "df = df.drop_duplicates()    # 去重（剩余： 30968）\n",
    "edu_list = ['大专', '本科', '硕士', '博士']    # 学历列表\n",
    "df = df[df.education.isin(edu_list)]     # 按学历列表筛选数据\n",
    "edu_salary = pd.DataFrame(df.salary.groupby(df['education']).mean().round(1))    # 以学历为索引聚合平均月薪，后计算平均薪水列的平均值保留1位小数，再生成DataFrame对象\n",
    "edu_salary = edu_salary.sort_values(by='salary')    # 按salary列的值进行排序\n",
    "# 初始化Bar对象\n",
    "bar = Bar('学历——平均月薪',\n",
    "         title_pos = \"6%\")\n",
    "bar.add(\"平均月薪\",\n",
    "        edu_salary.index,\n",
    "        edu_salary.salary,\n",
    "        label_pos = 'inside',\n",
    "        # x轴配置\n",
    "        xaxis_name = '学历',\n",
    "        xaxis_name_pos = 'end',\n",
    "        xaxis_name_gap = 12,\n",
    "        # y轴配置\n",
    "        yaxis_name = 'K/月',\n",
    "        yaxis_name_pos = 'end',\n",
    "        yaxis_name_gap = 12,\n",
    "        legend_orient = 'vertical',\n",
    "       )\n",
    "bar.render(\"学历——平均月薪 柱状图.html\")"
   ]
  }
 ],
 "metadata": {
  "kernelspec": {
   "display_name": "Python 3",
   "language": "python",
   "name": "python3"
  },
  "language_info": {
   "codemirror_mode": {
    "name": "ipython",
    "version": 3
   },
   "file_extension": ".py",
   "mimetype": "text/x-python",
   "name": "python",
   "nbconvert_exporter": "python",
   "pygments_lexer": "ipython3",
   "version": "3.6.6"
  }
 },
 "nbformat": 4,
 "nbformat_minor": 2
}
