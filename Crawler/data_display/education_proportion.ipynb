{
 "cells": [
  {
   "cell_type": "code",
   "execution_count": 8,
   "metadata": {},
   "outputs": [],
   "source": [
    "import pandas as pd\n",
    "from pyecharts import Pie\n",
    "\n",
    "# 读取csv数据源文件（源数据条数：32699）\n",
    "File_path = '/home/ls/tmp/mongodbdump/data/qcwy.csv'\n",
    "df = pd.read_csv(File_path, delimiter=\",\", encoding=\"utf-8\")\n",
    "df = df.drop_duplicates()    # 去重（剩余： 30968）\n",
    "edu_list = ['大专', '本科', '硕士', '博士']    # 学历列表\n",
    "df = df[df.education.isin(edu_list)]     # 按学历列表筛选数据\n",
    "education_select = df.education.value_counts()\n",
    "\n",
    "# 实例化Pie对象\n",
    "pie = Pie(\"学历占比\", title_pos=\"center\", width=900)\n",
    "# 配置圆环图\n",
    "pie.add(\n",
    "    \"学历: \",\n",
    "    education_select.index,\n",
    "    education_select.values,\n",
    "    center = [35, 50],\n",
    "    radius = [30, 75],\n",
    "    is_label_show = True,\n",
    ")\n",
    "pie.add(\n",
    "    \"学历： \",\n",
    "    education_select.index,\n",
    "    education_select.values,\n",
    "    center = [75, 50],\n",
    "    radius = [30, 75],\n",
    "    is_label_show = True,\n",
    "    legend_pos = \"center\",\n",
    "    legend_top = \"bottom\",\n",
    "    # 南丁格尔图\n",
    "    rosetype = 'area'    # 所有扇区圆心角相同，仅通过半径展示数据大小\n",
    ")\n",
    "pie.render(\"学历占比 饼状图.html\")"
   ]
  }
 ],
 "metadata": {
  "kernelspec": {
   "display_name": "Python 3",
   "language": "python",
   "name": "python3"
  },
  "language_info": {
   "codemirror_mode": {
    "name": "ipython",
    "version": 3
   },
   "file_extension": ".py",
   "mimetype": "text/x-python",
   "name": "python",
   "nbconvert_exporter": "python",
   "pygments_lexer": "ipython3",
   "version": "3.6.6"
  }
 },
 "nbformat": 4,
 "nbformat_minor": 2
}
