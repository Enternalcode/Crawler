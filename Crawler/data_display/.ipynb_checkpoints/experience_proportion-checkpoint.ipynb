{
 "cells": [
  {
   "cell_type": "code",
   "execution_count": 13,
   "metadata": {},
   "outputs": [],
   "source": [
    "import pandas as pd\n",
    "from pyecharts import Pie\n",
    "\n",
    "# 读取csv格式源文件（源数据条数：32699）\n",
    "File_path = '/home/ls/tmp/mongodbdump/data/qcwy.csv'\n",
    "df = pd.read_csv(File_path, delimiter=\",\", encoding=\"utf-8\")\n",
    "df = df.drop_duplicates()    # 去重（剩余：30968）\n",
    "exp_select = pd.DataFrame(df.experience.value_counts())    # 以工作经验为索引统计元素，后实例化成DataFrame对象\n",
    "exp_select = exp_select.reset_index()    # 重置索引\n",
    "exp_select.columns=['experience', 'num']    # 更改列名\n",
    "# 生成列表，为experience列元素添加’年‘字\n",
    "tmp = []\n",
    "for i in exp_select.experience:\n",
    "    if '无工作经验'in i:\n",
    "        tmp.append(i)\n",
    "    else:\n",
    "        tmp.append(i + '年')\n",
    "# 实例化圆环图\n",
    "pie = Pie(\"工作经验占比\", title_pos=\"center\", width=900)\n",
    "# 配置圆环图\n",
    "pie.add(\n",
    "    \"最低工作经验要求：\",\n",
    "    tmp,\n",
    "    exp_select.num,\n",
    "    center = [25, 50],\n",
    "    radius = [30, 75],\n",
    "    is_label_show = True,\n",
    "    # 南丁格尔图\n",
    "    # rosetype = \"radius\"    # 扇区圆心角展示数据百分比，半径展示数据大小\n",
    ")\n",
    "pie.add(\n",
    "    \"最低工作经验要求： \",\n",
    "    tmp,\n",
    "    exp_select.num,\n",
    "    center = [75, 50],\n",
    "    radius = [30, 75],\n",
    "    is_label_show = True,\n",
    "    legend_pos = \"center\",\n",
    "    legend_top = \"bottom\",\n",
    "    # 南丁格尔图\n",
    "    rosetype = \"area\"    # 所有扇区圆心角相同，仅通过半径展示数据大小\n",
    ")\n",
    "pie.render(\"工作经验占比.html\")"
   ]
  }
 ],
 "metadata": {
  "kernelspec": {
   "display_name": "Python 3",
   "language": "python",
   "name": "python3"
  },
  "language_info": {
   "codemirror_mode": {
    "name": "ipython",
    "version": 3
   },
   "file_extension": ".py",
   "mimetype": "text/x-python",
   "name": "python",
   "nbconvert_exporter": "python",
   "pygments_lexer": "ipython3",
   "version": "3.6.6"
  }
 },
 "nbformat": 4,
 "nbformat_minor": 2
}
